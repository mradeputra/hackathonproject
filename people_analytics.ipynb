{
  "nbformat": 4,
  "nbformat_minor": 0,
  "metadata": {
    "colab": {
      "name": "people_analytics",
      "provenance": [],
      "authorship_tag": "ABX9TyODeLQ9MgJqZMEvnz73SpeZ",
      "include_colab_link": true
    },
    "kernelspec": {
      "name": "python3",
      "display_name": "Python 3"
    }
  },
  "cells": [
    {
      "cell_type": "markdown",
      "metadata": {
        "id": "view-in-github",
        "colab_type": "text"
      },
      "source": [
        "<a href=\"https://colab.research.google.com/github/mradeputra/hackathonproject/blob/main/people_analytics.ipynb\" target=\"_parent\"><img src=\"https://colab.research.google.com/assets/colab-badge.svg\" alt=\"Open In Colab\"/></a>"
      ]
    },
    {
      "cell_type": "code",
      "metadata": {
        "colab": {
          "base_uri": "https://localhost:8080/"
        },
        "id": "BhSc5Yh3ix8_",
        "outputId": "57efa459-c58f-4084-c3b2-e2bbc16824f5"
      },
      "source": [
        "! git clone mradeputra/hackathonproject.git"
      ],
      "execution_count": null,
      "outputs": [
        {
          "output_type": "stream",
          "text": [
            "fatal: repository 'mradeputra/hackathonproject.git' does not exist\n"
          ],
          "name": "stdout"
        }
      ]
    }
  ]
}